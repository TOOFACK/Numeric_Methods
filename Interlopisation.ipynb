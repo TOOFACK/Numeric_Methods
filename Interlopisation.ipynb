{
 "cells": [
  {
   "cell_type": "code",
   "execution_count": 2,
   "id": "wrong-fiber",
   "metadata": {},
   "outputs": [],
   "source": [
    "import numpy as np\n",
    "import matplotlib.pyplot as plt\n",
    "import math\n",
    "from scipy.misc import derivative"
   ]
  },
  {
   "cell_type": "code",
   "execution_count": 14,
   "id": "honest-intake",
   "metadata": {},
   "outputs": [
    {
     "data": {
      "text/plain": [
       "5"
      ]
     },
     "execution_count": 14,
     "metadata": {},
     "output_type": "execute_result"
    }
   ],
   "source": [
    "x_v = np.array([0.35, 0.41, 0.47, 0.51, 0.56, 0.64])\n",
    "y_v = np.array([2.73, 2.3, 1.96, 1.78, 1.59, 1.34])\n",
    "n = len(x)-1\n",
    "n"
   ]
  },
  {
   "cell_type": "code",
   "execution_count": 21,
   "id": "amazing-cosmetic",
   "metadata": {},
   "outputs": [],
   "source": [
    "def f_lagranghe(x):\n",
    "    ans = 0\n",
    "    b = 1\n",
    "    for i in range(len(x_v)):\n",
    "        b = 1\n",
    "        for j in range(len(x_v)):\n",
    "            if i == j:\n",
    "                b *= 1\n",
    "            else:\n",
    "                b *= (x-x_v[j])/(x_v[i] - x_v[j])\n",
    "        ans += y_v[i] * b\n",
    "    return ans\n",
    "                \n",
    "            \n",
    "        \n",
    "    "
   ]
  },
  {
   "cell_type": "code",
   "execution_count": 70,
   "id": "worst-colorado",
   "metadata": {},
   "outputs": [
    {
     "name": "stdout",
     "output_type": "stream",
     "text": [
      "2.73\n",
      "2.141108208471605\n"
     ]
    }
   ],
   "source": [
    "print(f_lagranghe(0.35))\n",
    "print(f_lagranghe(0.436))"
   ]
  },
  {
   "cell_type": "code",
   "execution_count": 28,
   "id": "increased-nelson",
   "metadata": {},
   "outputs": [],
   "source": [
    "a1 = [0.35**st for st in range(len(x_v))]\n",
    "a2 = [0.41**st for st in range(len(x_v))]\n",
    "a3 = [0.47**st for st in range(len(x_v))]\n",
    "a4 = [0.51**st for st in range(len(x_v))]\n",
    "a5 = [0.56**st for st in range(len(x_v))]\n",
    "a6 = [0.64**st for st in range(len(x_v))]"
   ]
  },
  {
   "cell_type": "code",
   "execution_count": 30,
   "id": "serious-quest",
   "metadata": {},
   "outputs": [
    {
     "data": {
      "text/plain": [
       "array([[1.        , 0.35      , 0.1225    , 0.042875  , 0.01500625,\n",
       "        0.00525219],\n",
       "       [1.        , 0.41      , 0.1681    , 0.068921  , 0.02825761,\n",
       "        0.01158562],\n",
       "       [1.        , 0.47      , 0.2209    , 0.103823  , 0.04879681,\n",
       "        0.0229345 ],\n",
       "       [1.        , 0.51      , 0.2601    , 0.132651  , 0.06765201,\n",
       "        0.03450253],\n",
       "       [1.        , 0.56      , 0.3136    , 0.175616  , 0.09834496,\n",
       "        0.05507318],\n",
       "       [1.        , 0.64      , 0.4096    , 0.262144  , 0.16777216,\n",
       "        0.10737418]])"
      ]
     },
     "execution_count": 30,
     "metadata": {},
     "output_type": "execute_result"
    }
   ],
   "source": [
    "matrix = np.array([a1, a2, a3, a4, a5, a6])\n",
    "matrix"
   ]
  },
  {
   "cell_type": "code",
   "execution_count": 39,
   "id": "persistent-spirit",
   "metadata": {},
   "outputs": [
    {
     "data": {
      "text/plain": [
       "array([   -5.65796731,   120.34167294,  -570.44744556,  1219.47910589,\n",
       "       -1250.65434119,   500.8691906 ])"
      ]
     },
     "execution_count": 39,
     "metadata": {},
     "output_type": "execute_result"
    }
   ],
   "source": [
    "a = np.linalg.inv(matrix)@y_v\n",
    "a"
   ]
  },
  {
   "cell_type": "code",
   "execution_count": 50,
   "id": "polar-protest",
   "metadata": {},
   "outputs": [],
   "source": [
    "def poly(x):\n",
    "    return sum(a[i]*x**i for i in range(len(a)))"
   ]
  },
  {
   "cell_type": "code",
   "execution_count": 69,
   "id": "going-andrews",
   "metadata": {},
   "outputs": [
    {
     "name": "stdout",
     "output_type": "stream",
     "text": [
      "2.7300000000056452\n",
      "2.141108208479709\n"
     ]
    }
   ],
   "source": [
    "print(poly(0.35))\n",
    "print(poly(0.436))"
   ]
  },
  {
   "cell_type": "code",
   "execution_count": 76,
   "id": "vulnerable-brother",
   "metadata": {},
   "outputs": [
    {
     "data": {
      "text/plain": [
       "[<matplotlib.lines.Line2D at 0x7f2367f789d0>,\n",
       " <matplotlib.lines.Line2D at 0x7f2367f4fb50>,\n",
       " <matplotlib.lines.Line2D at 0x7f2367f4fc90>,\n",
       " <matplotlib.lines.Line2D at 0x7f2367f4fa90>]"
      ]
     },
     "execution_count": 76,
     "metadata": {},
     "output_type": "execute_result"
    },
    {
     "data": {
      "image/png": "[encoded data removed]",
      "text/plain": [
       "<Figure size 432x288 with 1 Axes>"
      ]
     },
     "metadata": {
      "needs_background": "light"
     },
     "output_type": "display_data"
    }
   ],
   "source": [
    "\n",
    "plt.plot(x_v, [poly(x) for x in x_v], '-',x_v,  [f_lagranghe(x) for x in x_v], '--', x_v, y_v,'ro',\n",
    "         0.436, poly(0.436), 'bx')"
   ]
  },
  {
   "cell_type": "code",
   "execution_count": 74,
   "id": "about-slovenia",
   "metadata": {},
   "outputs": [
    {
     "data": {
      "text/plain": [
       "[<matplotlib.lines.Line2D at 0x7f2367fa52d0>,\n",
       " <matplotlib.lines.Line2D at 0x7f2367fcfe50>,\n",
       " <matplotlib.lines.Line2D at 0x7f2367fcff90>]"
      ]
     },
     "execution_count": 74,
     "metadata": {},
     "output_type": "execute_result"
    },
    {
     "data": {
      "image/png": "[encoded data removed]",
      "text/plain": [
       "<Figure size 432x288 with 1 Axes>"
      ]
     },
     "metadata": {
      "needs_background": "light"
     },
     "output_type": "display_data"
    }
   ],
   "source": [
    "plt.plot(x_v, [poly(x) for x in x_v], '-',x_v,  [f_lagranghe(x) for x in x_v], '--', x_v, y_v,'ro')\n"
   ]
  },
  {
   "cell_type": "code",
   "execution_count": 91,
   "id": "radical-slave",
   "metadata": {},
   "outputs": [
    {
     "name": "stdout",
     "output_type": "stream",
     "text": [
      "[0.  0.1 0.2 0.3 0.4 0.5 0.6 0.7 0.8 0.9]\n",
      "[-5.65796731  1.7711479   3.5075335   3.1170123   2.36592273  1.82216189\n",
      "  1.45622857  1.24226629  1.75910632  4.79131072]\n"
     ]
    }
   ],
   "source": [
    "new_x = np.arange(0,1,0.1)\n",
    "new_y = np.array([poly(x) for x in new_x])\n",
    "print(new_x)\n",
    "print(new_y)"
   ]
  },
  {
   "cell_type": "code",
   "execution_count": 93,
   "id": "elder-disease",
   "metadata": {},
   "outputs": [
    {
     "data": {
      "text/plain": [
       "[<matplotlib.lines.Line2D at 0x7f2367fae790>,\n",
       " <matplotlib.lines.Line2D at 0x7f2367fae550>,\n",
       " <matplotlib.lines.Line2D at 0x7f2367fae8d0>,\n",
       " <matplotlib.lines.Line2D at 0x7f2367fae390>]"
      ]
     },
     "execution_count": 93,
     "metadata": {},
     "output_type": "execute_result"
    },
    {
     "data": {
      "image/png": "[encoded data removed]",
      "text/plain": [
       "<Figure size 432x288 with 1 Axes>"
      ]
     },
     "metadata": {
      "needs_background": "light"
     },
     "output_type": "display_data"
    }
   ],
   "source": [
    " \n",
    "plt.plot(new_x, new_y,x_v, [poly(x) for x in x_v], '--', x_v, y_v,'ro',\n",
    "         0.436, poly(0.436), 'bx') \n",
    "        \n",
    "        "
   ]
  },
  {
   "cell_type": "code",
   "execution_count": 94,
   "id": "related-somalia",
   "metadata": {},
   "outputs": [],
   "source": [
    "mx = np.array([0.01, 0.06, 0.11, 0.16, 0.21, 0.26, 0.31, 0.36, 0.41, 0.46])\n",
    "my = np.array([0.26, 0.27, 0.29, 0.3, 0.32, 0.33, 0.35, 0.36, 0.38, 0.39])"
   ]
  },
  {
   "cell_type": "code",
   "execution_count": 109,
   "id": "saved-growth",
   "metadata": {},
   "outputs": [],
   "source": [
    "def coef(x, y):\n",
    "    x.astype(float)\n",
    "    y.astype(float)\n",
    "    n = len(x)\n",
    "    a = []\n",
    "    for i in range(n):\n",
    "        a.append(y[i])\n",
    "\n",
    "    for j in range(1, n):\n",
    "\n",
    "        for i in range(n-1, j-1, -1):\n",
    "            a[i] = float(a[i]-a[i-1])/float(x[i]-x[i-j])\n",
    "\n",
    "    return np.array(a) # return an array of coefficient\n",
    "\n",
    "def Eval(a, x, r):\n",
    "    x.astype(float)\n",
    "    n = len( a ) - 1\n",
    "    temp = a[n] + (r - x[n])\n",
    "    for i in range( n - 1, -1, -1 ):\n",
    "        temp = temp * ( r - x[i] ) + a[i]\n",
    "    return temp # return the y_value interpolation"
   ]
  },
  {
   "cell_type": "code",
   "execution_count": 136,
   "id": "excited-spell",
   "metadata": {},
   "outputs": [
    {
     "data": {
      "text/plain": [
       "array([ 2.60000000e-01,  2.00000000e-01,  2.00000000e+00, -2.66666667e+01,\n",
       "        2.66666667e+02, -2.13333333e+03,  1.42222222e+04, -8.12698413e+04,\n",
       "        4.06349206e+05, -1.80599647e+06])"
      ]
     },
     "execution_count": 136,
     "metadata": {},
     "output_type": "execute_result"
    }
   ],
   "source": [
    "cf = coef(mx, my)\n",
    "cf"
   ]
  },
  {
   "cell_type": "code",
   "execution_count": 141,
   "id": "stupid-award",
   "metadata": {},
   "outputs": [
    {
     "name": "stdout",
     "output_type": "stream",
     "text": [
      "[0.29, 0.29827335902823615, 0.2195170794104946, 0.3595621091596448, 0.36892059496225843, 0.4270009387034319]\n"
     ]
    }
   ],
   "source": [
    "ax = [0.11, 0.156,.026, 0.37, 0.4, 0.45]\n",
    "print([Eval(cf, mx, x) for x in ax])"
   ]
  },
  {
   "cell_type": "code",
   "execution_count": 142,
   "id": "smart-indication",
   "metadata": {},
   "outputs": [
    {
     "data": {
      "text/plain": [
       "[<matplotlib.lines.Line2D at 0x7f23677a5990>,\n",
       " <matplotlib.lines.Line2D at 0x7f236775b690>,\n",
       " <matplotlib.lines.Line2D at 0x7f236775b6d0>]"
      ]
     },
     "execution_count": 142,
     "metadata": {},
     "output_type": "execute_result"
    },
    {
     "data": {
      "image/png": "[encoded data removed]",
      "text/plain": [
       "<Figure size 432x288 with 1 Axes>"
      ]
     },
     "metadata": {
      "needs_background": "light"
     },
     "output_type": "display_data"
    }
   ],
   "source": [
    "plt.plot(mx, [Eval(cf, mx, x) for x in mx], mx, my, 'ro', ax, [Eval(cf, mx, x) for x in ax], 'bx')"
   ]
  },
  {
   "cell_type": "code",
   "execution_count": null,
   "id": "closed-myanmar",
   "metadata": {},
   "outputs": [],
   "source": [
    " "
   ]
  },
  {
   "cell_type": "code",
   "execution_count": null,
   "id": "stunning-tackle",
   "metadata": {},
   "outputs": [],
   "source": []
  }
 ],
 "metadata": {
  "kernelspec": {
   "display_name": "Python 3",
   "language": "python",
   "name": "python3"
  },
  "language_info": {
   "codemirror_mode": {
    "name": "ipython",
    "version": 3
   },
   "file_extension": ".py",
   "mimetype": "text/x-python",
   "name": "python",
   "nbconvert_exporter": "python",
   "pygments_lexer": "ipython3",
   "version": "3.7.4"
  }
 },
 "nbformat": 4,
 "nbformat_minor": 5
}
