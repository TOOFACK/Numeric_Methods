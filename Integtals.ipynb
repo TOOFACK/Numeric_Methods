{
 "cells": [
  {
   "cell_type": "code",
   "execution_count": 34,
   "id": "iraqi-script",
   "metadata": {},
   "outputs": [],
   "source": [
    "import numpy as np\n",
    "import matplotlib.pyplot as plt\n",
    "import math\n",
    "from scipy.misc import derivative"
   ]
  },
  {
   "cell_type": "code",
   "execution_count": 29,
   "id": "blond-civilization",
   "metadata": {},
   "outputs": [],
   "source": [
    "def f(x):\n",
    "    return x**2*math.cos(x/4)"
   ]
  },
  {
   "cell_type": "code",
   "execution_count": 46,
   "id": "partial-kitty",
   "metadata": {},
   "outputs": [],
   "source": [
    "def func(x):\n",
    "    return x**2*np.cos(x/4)"
   ]
  },
  {
   "cell_type": "code",
   "execution_count": 19,
   "id": "anonymous-memorial",
   "metadata": {},
   "outputs": [
    {
     "data": {
      "text/plain": [
       "[<matplotlib.lines.Line2D at 0x7f0aea17d1d0>]"
      ]
     },
     "execution_count": 19,
     "metadata": {},
     "output_type": "execute_result"
    },
    {
     "data": {
      "image/png": "[encoded data removed]",
      "text/plain": [
       "<Figure size 432x288 with 1 Axes>"
      ]
     },
     "metadata": {
      "needs_background": "light"
     },
     "output_type": "display_data"
    }
   ],
   "source": [
    "plt.plot(np.arange(2,3, 0.1), f(np.arange(2,3, 0.1)))"
   ]
  },
  {
   "cell_type": "code",
   "execution_count": 32,
   "id": "offshore-karma",
   "metadata": {},
   "outputs": [],
   "source": [
    "def Simpson(a, b,n):\n",
    "    hf = (b-a)/n\n",
    "    ans = 0\n",
    "    for i in range(n):\n",
    "        ans += hf * f(a + (i)*hf)\n",
    "    return ans\n",
    "        \n",
    "            "
   ]
  },
  {
   "cell_type": "code",
   "execution_count": 33,
   "id": "moral-distributor",
   "metadata": {},
   "outputs": [
    {
     "name": "stdout",
     "output_type": "stream",
     "text": [
      "5.060204403102566\n"
     ]
    }
   ],
   "source": [
    "print(Simpson(2,3,1000))"
   ]
  },
  {
   "cell_type": "code",
   "execution_count": 35,
   "id": "blind-involvement",
   "metadata": {},
   "outputs": [],
   "source": [
    "def Trapezoidal(a, b, n):\n",
    "    h = (b-a)/n\n",
    "    s = 0.5*(f(a) + f(b))\n",
    "    for i in range(1,n):\n",
    "        s = s + f(a + i*h)\n",
    "        \n",
    "    return h * s"
   ]
  },
  {
   "cell_type": "code",
   "execution_count": 36,
   "id": "marked-julian",
   "metadata": {},
   "outputs": [
    {
     "name": "stdout",
     "output_type": "stream",
     "text": [
      "5.061741837888722\n"
     ]
    }
   ],
   "source": [
    "print(Trapezoidal(2,3,1000))"
   ]
  },
  {
   "cell_type": "code",
   "execution_count": 49,
   "id": "diverse-testing",
   "metadata": {},
   "outputs": [],
   "source": [
    "def monte_carlo_uniform(a,b,n):\n",
    "    subsets = np.arange(0, n+1, n/10)\n",
    "    steps = n/10\n",
    "    u = np.zeros(n)\n",
    "    for i in range(10):\n",
    "        start = int(subsets[i])\n",
    "        end = int(subsets[i+1])\n",
    "        u[start:end] = np.random.uniform(low = i/10, high = (i+1)/10, size = end-start)\n",
    "    np.random.shuffle(u)\n",
    "    u_func = func(a+(b-a)*u)\n",
    "    return ((b-a)/n)*u_func.sum()"
   ]
  },
  {
   "cell_type": "code",
   "execution_count": 50,
   "id": "spatial-blowing",
   "metadata": {},
   "outputs": [
    {
     "name": "stdout",
     "output_type": "stream",
     "text": [
      "5.063488052128813\n"
     ]
    }
   ],
   "source": [
    "print(monte_carlo_uniform(2,3,1000))"
   ]
  },
  {
   "cell_type": "code",
   "execution_count": null,
   "id": "regulation-behalf",
   "metadata": {},
   "outputs": [],
   "source": []
  }
 ],
 "metadata": {
  "kernelspec": {
   "display_name": "Python 3",
   "language": "python",
   "name": "python3"
  },
  "language_info": {
   "codemirror_mode": {
    "name": "ipython",
    "version": 3
   },
   "file_extension": ".py",
   "mimetype": "text/x-python",
   "name": "python",
   "nbconvert_exporter": "python",
   "pygments_lexer": "ipython3",
   "version": "3.7.4"
  }
 },
 "nbformat": 4,
 "nbformat_minor": 5
}
