{
 "cells": [
  {
   "cell_type": "code",
   "execution_count": 10,
   "id": "french-australian",
   "metadata": {},
   "outputs": [
    {
     "name": "stdout",
     "output_type": "stream",
     "text": [
      "Requirement already satisfied: sympy in /home/pavel/anaconda3/lib/python3.7/site-packages (1.7.1)\n",
      "Requirement already satisfied: mpmath>=0.19 in /home/pavel/anaconda3/lib/python3.7/site-packages (from sympy) (1.1.0)\n",
      "Note: you may need to restart the kernel to use updated packages.\n"
     ]
    }
   ],
   "source": [
    "pip install sympy"
   ]
  },
  {
   "cell_type": "code",
   "execution_count": 5,
   "id": "stopped-pound",
   "metadata": {},
   "outputs": [],
   "source": [
    "import numpy as np\n",
    "import matplotlib.pyplot as plt\n",
    "import math\n",
    "from scipy.misc import derivative\n",
    "from sympy import *"
   ]
  },
  {
   "cell_type": "code",
   "execution_count": 6,
   "id": "incoming-throat",
   "metadata": {},
   "outputs": [],
   "source": [
    "def f(x,y):\n",
    "    return 2 - sin(x-y)**2"
   ]
  },
  {
   "cell_type": "code",
   "execution_count": 9,
   "id": "critical-bangladesh",
   "metadata": {},
   "outputs": [],
   "source": [
    "\n",
    "def pikard(a,b,h,y0):\n",
    "    x = []\n",
    "    y = []\n",
    "    n = int((b-a)//h)\n",
    "    y.append(y0)\n",
    "    for i in range(n):\n",
    "        x.append(a + i*h)\n",
    "    for i in range(1,n):\n",
    "\n",
    "        print(\"i = \",i)\n",
    "        print(y)\n",
    "        s = Symbol('x')\n",
    "        y.append(y0 + (Integral(f(s,y[i-1]),(s,a,x[i]))).evalf())\n",
    "     \n",
    "    return y\n",
    "      "
   ]
  },
  {
   "cell_type": "code",
   "execution_count": 10,
   "id": "worth-shirt",
   "metadata": {},
   "outputs": [
    {
     "name": "stdout",
     "output_type": "stream",
     "text": [
      "i =  1\n",
      "[2.3]\n",
      "i =  2\n",
      "[2.3, 2.49380603277160]\n",
      "i =  3\n",
      "[2.3, 2.49380603277160, 2.67008453853637]\n",
      "i =  4\n",
      "[2.3, 2.49380603277160, 2.67008453853637, 2.82477761113598]\n",
      "i =  5\n",
      "[2.3, 2.49380603277160, 2.67008453853637, 2.82477761113598, 2.96147833400612]\n",
      "i =  6\n",
      "[2.3, 2.49380603277160, 2.67008453853637, 2.82477761113598, 2.96147833400612, 3.08531009902959]\n",
      "i =  7\n",
      "[2.3, 2.49380603277160, 2.67008453853637, 2.82477761113598, 2.96147833400612, 3.08531009902959, 3.20004972488223]\n",
      "i =  8\n",
      "[2.3, 2.49380603277160, 2.67008453853637, 2.82477761113598, 2.96147833400612, 3.08531009902959, 3.20004972488223, 3.30846628249900]\n",
      "[2.3, 2.49380603277160, 2.67008453853637, 2.82477761113598, 2.96147833400612, 3.08531009902959, 3.20004972488223, 3.30846628249900, 3.41260505440546]\n"
     ]
    }
   ],
   "source": [
    "print(pikard(2,3,0.1,2.3))"
   ]
  },
  {
   "cell_type": "code",
   "execution_count": 37,
   "id": "anticipated-motion",
   "metadata": {},
   "outputs": [],
   "source": [
    "def euler(a, y0,b,h):\n",
    "    n = int((b - a)//h)\n",
    "    y = []\n",
    "    x = []\n",
    "    d_y = []\n",
    "    y.append(y0)\n",
    "    for i in range(n):\n",
    "        x.append(a + i*h)\n",
    "        d_y.append(h*f(x[i],y[i]))\n",
    "        y.append(y[i] + d_y[i])\n",
    "        \n",
    "    print(y)"
   ]
  },
  {
   "cell_type": "code",
   "execution_count": 38,
   "id": "radio-wagon",
   "metadata": {},
   "outputs": [
    {
     "name": "stdout",
     "output_type": "stream",
     "text": [
      "[2.3, 2.49126678074548, 2.67672325357610, 2.85566706347244, 3.02784037075344, 3.19333668911499, 3.35249090797708, 3.50577925837663, 3.65374171323738, 3.79692861983786]\n"
     ]
    }
   ],
   "source": [
    "euler(2,2.3,3,0.1)"
   ]
  },
  {
   "cell_type": "code",
   "execution_count": 21,
   "id": "atmospheric-humor",
   "metadata": {},
   "outputs": [],
   "source": [
    "def rungeKutta(x0, y0, x, h):\n",
    "    # Count number of iterations using step size or\n",
    "    # step height h\n",
    "    n = (int)((x - x0)//h)\n",
    "    # Iterate for number of iterations\n",
    "    y = y0\n",
    "    for i in range(1, n + 1):\n",
    "        \"Apply Runge Kutta Formulas to find next value of y\"\n",
    "        k1 = h * f(x0, y)\n",
    "        k2 = h * f(x0 + 0.5 * h, y + 0.5 * k1)\n",
    "        k3 = h * f(x0 + 0.5 * h, y + 0.5 * k2)\n",
    "        k4 = h * f(x0 + h, y + k3)\n",
    " \n",
    "        # Update next value of y\n",
    "        print(y)\n",
    "        y = y + (1.0 / 6.0)*(k1 + 2 * k2 + 2 * k3 + k4)\n",
    " \n",
    "        # Update next value of x\n",
    "        x0 = x0 + h\n",
    "    return y"
   ]
  },
  {
   "cell_type": "code",
   "execution_count": 22,
   "id": "deadly-owner",
   "metadata": {},
   "outputs": [
    {
     "name": "stdout",
     "output_type": "stream",
     "text": [
      "2.3\n",
      "2.48852877164579\n",
      "2.67108848979715\n",
      "2.84725584589011\n",
      "3.01696411558192\n",
      "3.18040751774657\n",
      "3.33794895398184\n",
      "3.49004413751730\n",
      "3.63718582291375\n",
      "3.77986645969277\n"
     ]
    }
   ],
   "source": [
    "print(rungeKutta(2, 2.3, 3, 0.1))"
   ]
  },
  {
   "cell_type": "code",
   "execution_count": 14,
   "id": "surprising-administrator",
   "metadata": {},
   "outputs": [],
   "source": [
    "def AdBash3(t0,tn,n,y0):\n",
    "    h = abs(tn-t0)/n\n",
    "    t = np.linspace(t0,tn,n+1)\n",
    "    y = np.zeros(n+1)\n",
    "    y[0:3] = rungeKutta(2, 2.3, 3, 10)\n",
    "    K1 = f(t[1],y[1])\n",
    "    K2 = f(t[0],y[0])\n",
    "    for i in range(2,n):\n",
    "        K3 = K2\n",
    "        K2 = K1\n",
    "        K1 = f(t[i],y[i])\n",
    "        y[i+1] = y[i] + h*(23*K1-16*K2+5*K3)/12\n",
    "    return y"
   ]
  },
  {
   "cell_type": "code",
   "execution_count": 15,
   "id": "intelligent-psychiatry",
   "metadata": {},
   "outputs": [
    {
     "name": "stdout",
     "output_type": "stream",
     "text": [
      "[2.3        2.3        2.3        2.49971347 2.69185419 2.880819\n",
      " 3.06373932 3.240362   3.41055677 3.57450688 3.73255328]\n"
     ]
    }
   ],
   "source": [
    "print(AdBash3(2,3,10,2.3))"
   ]
  }
 ],
 "metadata": {
  "kernelspec": {
   "display_name": "Python 3",
   "language": "python",
   "name": "python3"
  }
 },
 "nbformat": 4,
 "nbformat_minor": 5
}
